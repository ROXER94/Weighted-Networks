{
 "metadata": {
  "name": "a5.5.ipynb"
 },
 "nbformat": 3,
 "nbformat_minor": 0,
 "worksheets": [
  {
   "cells": [
    {
     "cell_type": "code",
     "collapsed": false,
     "input": [
      "import random\n",
      "from collections import Counter\n",
      "from collections import defaultdict"
     ],
     "language": "python",
     "metadata": {},
     "outputs": [],
     "prompt_number": 2
    },
    {
     "cell_type": "code",
     "collapsed": false,
     "input": [
      "import random\n",
      "N = 100000\n",
      "z = 5\n",
      "\n",
      "E = set()\n",
      "L = N*z/2.\n",
      "while(len(E)<L): E.add(tuple(random.sample(xrange(N),2)))"
     ],
     "language": "python",
     "metadata": {},
     "outputs": [],
     "prompt_number": 31
    },
    {
     "cell_type": "code",
     "collapsed": false,
     "input": [
      "neighbors=defaultdict(list)\n",
      "for j1,j2 in E:\n",
      "    neighbors[j1].append(j2)\n",
      "    neighbors[j2].append(j1)\n",
      "degrees=[len(neighbors[v]) for v in xrange(N)]"
     ],
     "language": "python",
     "metadata": {},
     "outputs": [],
     "prompt_number": 4
    },
    {
     "cell_type": "code",
     "collapsed": false,
     "input": [
      "avg_fof = mean([sum([len(neighbors[f_o_v]) for f_o_v in neighbors[v]])\n",
      "                for v in xrange(N)]) / mean(degrees)"
     ],
     "language": "python",
     "metadata": {},
     "outputs": [],
     "prompt_number": 5
    },
    {
     "cell_type": "code",
     "collapsed": false,
     "input": [
      "friend_pairs = []\n",
      "for v in neighbors:\n",
      "    for f1 in neighbors[v]:\n",
      "        for f2 in neighbors[v]:\n",
      "            if f1 < f2:\n",
      "                friend_pairs.append((f1,f2))\n",
      "Connected_Triples = len(friend_pairs)"
     ],
     "language": "python",
     "metadata": {},
     "outputs": [],
     "prompt_number": 12
    },
    {
     "cell_type": "code",
     "collapsed": false,
     "input": [
      "Closed_Triangles = 0\n",
      "for f1,f2 in friend_pairs:\n",
      "    if f1 in neighbors[f2]:\n",
      "        Closed_Triangles = Closed_Triangles + 1\n",
      "\n",
      "C = float(Closed_Triangles)/Connected_Triples"
     ],
     "language": "python",
     "metadata": {},
     "outputs": [],
     "prompt_number": 16
    },
    {
     "cell_type": "code",
     "collapsed": false,
     "input": [],
     "language": "python",
     "metadata": {},
     "outputs": [],
     "prompt_number": 69
    },
    {
     "cell_type": "code",
     "collapsed": false,
     "input": [
      "weighted = [0,1]\n",
      "for k in xrange(2,N):\n",
      "    v1 = random.choice(weighted)\n",
      "    v2 = random.choice(weighted)\n",
      "    while v1 == v2:\n",
      "        v1 = random.choice(weighted)\n",
      "        weighted += [k,v1,k,v2]"
     ],
     "language": "python",
     "metadata": {},
     "outputs": [],
     "prompt_number": 32
    },
    {
     "cell_type": "code",
     "collapsed": false,
     "input": [
      "dmin = 20.\n",
      "deg = Counter(Counter(weighted).values())\n",
      "degree = []\n",
      "for d in deg:\n",
      "    if d >= dmin:\n",
      "        degree.append(d)\n",
      "n = float(len(degree))"
     ],
     "language": "python",
     "metadata": {},
     "outputs": [],
     "prompt_number": 33
    },
    {
     "cell_type": "code",
     "collapsed": false,
     "input": [
      "degree = [log(d/dmin) for d in degree]\n",
      "alpha = [1+n/sum(degree)]"
     ],
     "language": "python",
     "metadata": {},
     "outputs": [],
     "prompt_number": 34
    },
    {
     "cell_type": "code",
     "collapsed": false,
     "input": [
      "x = deg.keys()\n",
      "y = deg.values()\n",
      "loglog(x,y,'o')"
     ],
     "language": "python",
     "metadata": {},
     "outputs": [
      {
       "metadata": {},
       "output_type": "pyout",
       "prompt_number": 35,
       "text": [
        "[<matplotlib.lines.Line2D at 0x2da48780>]"
       ]
      },
      {
       "metadata": {},
       "output_type": "display_data",
       "png": "[encoded data removed]",
       "text": [
        "<matplotlib.figure.Figure at 0x135c2710>"
       ]
      }
     ],
     "prompt_number": 35
    },
    {
     "cell_type": "code",
     "collapsed": false,
     "input": [
      "from scipy import stats\n",
      "slope, intercept, r_value, p_value, std_err = stats.linregress(log(array(x)),log(array(y)))\n",
      "print slope"
     ],
     "language": "python",
     "metadata": {},
     "outputs": [
      {
       "output_type": "stream",
       "stream": "stdout",
       "text": [
        "-1.19619806913\n"
       ]
      }
     ],
     "prompt_number": 36
    },
    {
     "cell_type": "code",
     "collapsed": false,
     "input": [
      "neighbors=defaultdict(list)\n",
      "neighbors[0] = [1]\n",
      "neighbors[1] = [0]\n",
      "weighted = [0,1]\n",
      "for k in arange(2,N):\n",
      "    v1 = random.choice(weighted)\n",
      "    v2 = random.choice(weighted)\n",
      "    while v1 == v2:\n",
      "        v1 = random.choice(weighted)\n",
      "    weighted += [k,v1,k,v2]\n",
      "    neighbors[v1].append(k)\n",
      "    neighbors[v2].append(k)\n",
      "    neighbors[k] = [v1,v2]\n",
      "degrees=[len(neighbors[v]) for v in xrange(N)]\n",
      "avg_fof = mean([sum([len(neighbors[f_o_v]) for f_o_v in neighbors[v]])\n",
      "                for v in xrange(N)]) / mean(degrees)\n",
      "friend_pairs = []\n",
      "for v in neighbors:\n",
      "    for f1 in neighbors[v]:\n",
      "        for f2 in neighbors[v]:\n",
      "            if f1 < f2:\n",
      "                friend_pairs.append((f1,f2))\n",
      "Connected_Triples = len(friend_pairs)\n",
      "Closed_Triangles = 0\n",
      "for f1,f2 in friend_pairs:\n",
      "    if f1 in neighbors[f2]:\n",
      "        Closed_Triangles = Closed_Triangles + 1\n",
      "\n",
      "C = float(Closed_Triangles)/Connected_Triples"
     ],
     "language": "python",
     "metadata": {},
     "outputs": [],
     "prompt_number": 40
    },
    {
     "cell_type": "code",
     "collapsed": false,
     "input": [],
     "language": "python",
     "metadata": {},
     "outputs": [],
     "prompt_number": 39
    },
    {
     "cell_type": "code",
     "collapsed": false,
     "input": [
      "weighted=[0]\n",
      "for j in xrange(1,1000000):\n",
      "    if rand() < .1:\n",
      "        i=random.randrange(j)\n",
      "    else:\n",
      "         i = random.choice(weighted)\n",
      "    weighted.append(i)\n",
      "dmin = 20.\n",
      "deg = Counter(Counter(weighted).values())\n",
      "degree = []\n",
      "for d in deg:\n",
      "    if d >= dmin:\n",
      "        degree.append(d)\n",
      "n = float(len(degree))\n",
      "degree = [log(d/dmin) for d in degree]\n",
      "alpha = [1+n/sum(degree)]"
     ],
     "language": "python",
     "metadata": {},
     "outputs": [
      {
       "output_type": "stream",
       "stream": "stdout",
       "text": [
        "[1.381399087247801]\n"
       ]
      }
     ],
     "prompt_number": 46
    },
    {
     "cell_type": "code",
     "collapsed": false,
     "input": [
      "weighted=[0]\n",
      "for j in xrange(1,1000000):\n",
      "    if rand() < .1:\n",
      "        i=random.randrange(j)\n",
      "    else:\n",
      "         i = random.choice(weighted)\n",
      "    weighted.append(i)\n",
      "dmin = 20.\n",
      "deg = Counter(Counter(weighted).values())\n",
      "degree = []\n",
      "for d in deg:\n",
      "    if d >= dmin:\n",
      "        degree.append(d)\n",
      "n = float(len(degree))\n",
      "degree = [log(d/dmin) for d in degree]\n",
      "alpha = [1+n/sum(degree)]"
     ],
     "language": "python",
     "metadata": {},
     "outputs": []
    },
    {
     "cell_type": "code",
     "collapsed": false,
     "input": [
      "weighted=[0]\n",
      "for j in xrange(1,1000000):\n",
      "    if rand() < .2:\n",
      "        i=random.randrange(j)\n",
      "    else:\n",
      "         i = random.choice(weighted)\n",
      "    weighted.append(i)\n",
      "dmin = 20.\n",
      "deg = Counter(Counter(weighted).values())\n",
      "degree = []\n",
      "for d in deg:\n",
      "    if d >= dmin:\n",
      "        degree.append(d)\n",
      "n = float(len(degree))\n",
      "degree = [log(d/dmin) for d in degree]\n",
      "alpha = [1+n/sum(degree)]"
     ],
     "language": "python",
     "metadata": {},
     "outputs": []
    },
    {
     "cell_type": "code",
     "collapsed": false,
     "input": [
      "weighted=[0]\n",
      "for j in xrange(1,1000000):\n",
      "    if rand() < .3:\n",
      "        i=random.randrange(j)\n",
      "    else:\n",
      "         i = random.choice(weighted)\n",
      "    weighted.append(i)\n",
      "dmin = 20.\n",
      "deg = Counter(Counter(weighted).values())\n",
      "degree = []\n",
      "for d in deg:\n",
      "    if d >= dmin:\n",
      "        degree.append(d)\n",
      "n = float(len(degree))\n",
      "degree = [log(d/dmin) for d in degree]\n",
      "alpha = [1+n/sum(degree)]"
     ],
     "language": "python",
     "metadata": {},
     "outputs": []
    },
    {
     "cell_type": "code",
     "collapsed": false,
     "input": [
      "weighted=[0]\n",
      "for j in xrange(1,1000000):\n",
      "    if rand() < .4:\n",
      "        i=random.randrange(j)\n",
      "    else:\n",
      "         i = random.choice(weighted)\n",
      "    weighted.append(i)\n",
      "dmin = 20.\n",
      "deg = Counter(Counter(weighted).values())\n",
      "degree = []\n",
      "for d in deg:\n",
      "    if d >= dmin:\n",
      "        degree.append(d)\n",
      "n = float(len(degree))\n",
      "degree = [log(d/dmin) for d in degree]\n",
      "alpha = [1+n/sum(degree)]"
     ],
     "language": "python",
     "metadata": {},
     "outputs": []
    },
    {
     "cell_type": "code",
     "collapsed": false,
     "input": [
      "weighted=[0]\n",
      "for j in xrange(1,1000000):\n",
      "    if rand() < .5:\n",
      "        i=random.randrange(j)\n",
      "    else:\n",
      "         i = random.choice(weighted)\n",
      "    weighted.append(i)\n",
      "dmin = 20.\n",
      "deg = Counter(Counter(weighted).values())\n",
      "degree = []\n",
      "for d in deg:\n",
      "    if d >= dmin:\n",
      "        degree.append(d)\n",
      "n = float(len(degree))\n",
      "degree = [log(d/dmin) for d in degree]\n",
      "alpha = [1+n/sum(degree)]"
     ],
     "language": "python",
     "metadata": {},
     "outputs": []
    },
    {
     "cell_type": "code",
     "collapsed": false,
     "input": [
      "weighted=[0]\n",
      "for j in xrange(1,1000000):\n",
      "    if rand() < .6:\n",
      "        i=random.randrange(j)\n",
      "    else:\n",
      "         i = random.choice(weighted)\n",
      "    weighted.append(i)\n",
      "dmin = 20.\n",
      "deg = Counter(Counter(weighted).values())\n",
      "degree = []\n",
      "for d in deg:\n",
      "    if d >= dmin:\n",
      "        degree.append(d)\n",
      "n = float(len(degree))\n",
      "degree = [log(d/dmin) for d in degree]\n",
      "alpha = [1+n/sum(degree)]"
     ],
     "language": "python",
     "metadata": {},
     "outputs": []
    },
    {
     "cell_type": "code",
     "collapsed": false,
     "input": [
      "weighted=[0]\n",
      "for j in xrange(1,1000000):\n",
      "    if rand() < .75:\n",
      "        i=random.randrange(j)\n",
      "    else:\n",
      "         i = random.choice(weighted)\n",
      "    weighted.append(i)\n",
      "dmin = 20.\n",
      "deg = Counter(Counter(weighted).values())\n",
      "degree = []\n",
      "for d in deg:\n",
      "    if d >= dmin:\n",
      "        degree.append(d)\n",
      "n = float(len(degree))\n",
      "degree = [log(d/dmin) for d in degree]\n",
      "alpha = [1+n/sum(degree)]"
     ],
     "language": "python",
     "metadata": {},
     "outputs": []
    }
   ],
   "metadata": {}
  }
 ]
}